{
    "cells": [
        {
            "cell_type": "markdown",
            "id": "ac622319",
            "metadata": {},
            "source": [
                "# Descriptive statistics problems"
            ]
        },
        {
            "cell_type": "markdown",
            "id": "5e0ab0d5",
            "metadata": {},
            "source": [
                "### Exercise 1\n",
                "\n",
                "We will use NumPy to obtain information to describe statistically.\n",
                "\n",
                "- Generate an array of 100 elements following a normal distribution.\n",
                "- Generate an array of 100 elements following a chi-square distribution with 3 degrees of freedom.\n",
                "- Calculate the main metrics and statistical measures that best describe the two vectors."
            ]
        },
        {
            "cell_type": "code",
            "execution_count": 2,
            "id": "34720ab6",
            "metadata": {},
            "outputs": [
                {
                    "name": "stdout",
                    "output_type": "stream",
                    "text": [
                        "Normal Distribution Metrics:\n",
                        "Mean: 0.18807238162053014\n",
                        "Median: 0.3097699591847355\n",
                        "Variance: 0.948422660284363\n",
                        "Standard Deviation: 0.9738699401277169\n",
                        "Minimum: -2.356667844243891\n",
                        "Maximum: 2.338955686681139\n",
                        "25th Percentile: -0.46199051339402336\n",
                        "50th Percentile: 0.3097699591847355\n",
                        "75th Percentile: 0.854392517703504\n",
                        "\n",
                        "Chi-Square Distribution Metrics:\n",
                        "Mean: 2.930139688400792\n",
                        "Median: 2.0369536632448697\n",
                        "Variance: 6.7215999774546695\n",
                        "Standard Deviation: 2.592604863347801\n",
                        "Minimum: 0.20620619137168217\n",
                        "Maximum: 15.195874248440944\n",
                        "25th Percentile: 0.8893106896720376\n",
                        "50th Percentile: 2.0369536632448697\n",
                        "75th Percentile: 4.229272234467364\n"
                    ]
                }
            ],
            "source": [
                "import numpy as np\n",
                "\n",
                "normal_dist = np.random.normal(loc=0, scale=1, size=100)  \n",
                "chi_square_dist = np.random.chisquare(df=3, size=100)  \n",
                "\n",
                "def calculate_metrics(array):\n",
                "    metrics = {\n",
                "        'Mean': np.mean(array),\n",
                "        'Median': np.median(array),\n",
                "        'Variance': np.var(array),\n",
                "        'Standard Deviation': np.std(array),\n",
                "        'Minimum': np.min(array),\n",
                "        'Maximum': np.max(array),\n",
                "        '25th Percentile': np.percentile(array, 25),\n",
                "        '50th Percentile': np.percentile(array, 50), \n",
                "        '75th Percentile': np.percentile(array, 75),\n",
                "    }\n",
                "    return metrics\n",
                "\n",
                "normal_metrics = calculate_metrics(normal_dist)\n",
                "chi_square_metrics = calculate_metrics(chi_square_dist)\n",
                "\n",
                "print(\"Normal Distribution Metrics:\")\n",
                "for key, value in normal_metrics.items():\n",
                "    print(f\"{key}: {value}\")\n",
                "\n",
                "print(\"\\nChi-Square Distribution Metrics:\")\n",
                "for key, value in chi_square_metrics.items():\n",
                "    print(f\"{key}: {value}\")\n"
            ]
        },
        {
            "cell_type": "markdown",
            "id": "46c70c3d",
            "metadata": {},
            "source": [
                "### Exercise 2\n",
                "\n",
                "Write a Python program to calculate the standard deviation of the following data:\n",
                "\n",
                "```py\n",
                "data = [4, 2, 5, 8, 6]\n",
                "```"
            ]
        },
        {
            "cell_type": "code",
            "execution_count": 1,
            "id": "d590308e",
            "metadata": {},
            "outputs": [
                {
                    "name": "stdout",
                    "output_type": "stream",
                    "text": [
                        "The standard deviation of the data is: 2.0\n"
                    ]
                }
            ],
            "source": [
                "\n",
                "def calculate_std_dev(data):\n",
                "    mean = sum(data) / len(data)\n",
                "    \n",
                "    squared_diff = [(x - mean) ** 2 for x in data]\n",
                "    \n",
                "    variance = sum(squared_diff) / len(data)\n",
                "    \n",
                "    std_dev = variance ** 0.5\n",
                "    \n",
                "    return std_dev\n",
                "\n",
                "data = [4, 2, 5, 8, 6]\n",
                "\n",
                "std_dev = calculate_std_dev(data)\n",
                "\n",
                "print(f\"The standard deviation of the data is: {std_dev}\")\n",
                "\n"
            ]
        }
    ],
    "metadata": {
        "interpreter": {
            "hash": "9248718ffe6ce6938b217e69dbcc175ea21f4c6b28a317e96c05334edae734bb"
        },
        "kernelspec": {
            "display_name": "Python 3.9.12 ('ML-BOOTCAMP')",
            "language": "python",
            "name": "python3"
        },
        "language_info": {
            "codemirror_mode": {
                "name": "ipython",
                "version": 3
            },
            "file_extension": ".py",
            "mimetype": "text/x-python",
            "name": "python",
            "nbconvert_exporter": "python",
            "pygments_lexer": "ipython3",
            "version": "3.11.4"
        }
    },
    "nbformat": 4,
    "nbformat_minor": 5
}
